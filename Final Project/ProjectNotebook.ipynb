{
 "cells": [
  {
   "cell_type": "markdown",
   "metadata": {},
   "source": [
    "# Project Description"
   ]
  },
  {
   "cell_type": "markdown",
   "metadata": {},
   "source": [
    "Write a brief description of your project here. \n",
    "\n",
    "\n",
    "This project aims to work as an interactive system in which it stores information of residual properties such as houses. Depending on the user input, the project allows within a csv file, adding and dropping of properties in the manner of bookmarking as well as finding properties within the csv file DataFrame that satisfies input conditions such as price and sizes.#\n",
    "\n",
    "\n",
    "Note that projects should be self-sufficient, so make sure to provide enough information and context here for someone to understand what you are doing in your project, and why. "
   ]
  },
  {
   "cell_type": "markdown",
   "metadata": {},
   "source": [
    "## Project Code\n",
    "\n",
    "If it makes sense for your project, you can have code and outputs here in the notebook as well."
   ]
  },
  {
   "cell_type": "code",
   "execution_count": null,
   "metadata": {},
   "outputs": [],
   "source": [
    "import pandas as pd\n",
    "\n",
    "df = pd.read_csv('property.csv')\n",
    "\n",
    "#USE df as input parameter for all functions below\n",
    "\n",
    "from my_module.functions import add_house\n",
    "from my_module.functions import drop_house\n",
    "from my_module.functions import find_house\n",
    "from my_module.functions import initialize"
   ]
  },
  {
   "cell_type": "code",
   "execution_count": null,
   "metadata": {},
   "outputs": [],
   "source": [
    "# Do a bunch of things.\n",
    "add_house?\n",
    "drop_house?\n",
    "find_house?"
   ]
  },
  {
   "cell_type": "code",
   "execution_count": null,
   "metadata": {},
   "outputs": [],
   "source": [
    "initialize(df)"
   ]
  },
  {
   "cell_type": "code",
   "execution_count": null,
   "metadata": {},
   "outputs": [],
   "source": [
    "!pytest my_module/test_functions.py"
   ]
  },
  {
   "cell_type": "markdown",
   "metadata": {},
   "source": [
    "#### Extra Credit (*optional*)\n",
    "\n",
    "Replace all of this text with a brief explanation (~3 sentences) of: \n",
    "1. Your Python Background = Never done it before except for Intro to R, where everything was a lot more simple than this.\n",
    "\n",
    "2. How your project went above and beyond the requirements of the project and/or how you challenged yourself to learn something new with the final project = I utilized the general broad knowledge of coding and the typical structure I learned from this course but mostly utilized the internet to further embed more actions compared to the ones we learned. I was able to find new functions and new ways that further advances from what we have learned from this course - after trying them out numerous times, I was able to debug them and successfully utilize them as intended, which happened to be more easier (after acquiring the knowledge of how to use them) and shorter (cleaner)."
   ]
  },
  {
   "cell_type": "markdown",
   "metadata": {},
   "source": [
    "#### "
   ]
  }
 ],
 "metadata": {
  "kernelspec": {
   "display_name": "Python 3 (ipykernel)",
   "language": "python",
   "name": "python3"
  },
  "language_info": {
   "codemirror_mode": {
    "name": "ipython",
    "version": 3
   },
   "file_extension": ".py",
   "mimetype": "text/x-python",
   "name": "python",
   "nbconvert_exporter": "python",
   "pygments_lexer": "ipython3",
   "version": "3.9.5"
  }
 },
 "nbformat": 4,
 "nbformat_minor": 2
}
